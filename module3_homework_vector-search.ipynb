{
 "cells": [
  {
   "cell_type": "markdown",
   "metadata": {},
   "source": [
    "# Module 3 Homework\n",
    "\n",
    "## Homework: Vector Search\n",
    "\n",
    "In this homework, we'll experiemnt with vector with and without Elasticsearch\n",
    "\n",
    "> It's possible that your answers won't match exactly. If it's the case, select the closest one."
   ]
  },
  {
   "cell_type": "markdown",
   "metadata": {},
   "source": [
    "## Q1. Getting the embeddings model\n",
    "\n",
    "First, we will get the embeddings model `multi-qa-distilbert-cos-v1` from\n",
    "[the Sentence Transformer library](https://www.sbert.net/docs/sentence_transformer/pretrained_models.html#model-overview)    "
   ]
  },
  {
   "cell_type": "code",
   "execution_count": 1,
   "metadata": {},
   "outputs": [],
   "source": [
    "# Added code block defining `model_name` variable\n",
    "model_name: str = \"multi-qa-distilbert-cos-v1\""
   ]
  },
  {
   "cell_type": "code",
   "execution_count": 2,
   "metadata": {},
   "outputs": [
    {
     "name": "stderr",
     "output_type": "stream",
     "text": [
      "c:\\Users\\Administrator\\anaconda3\\envs\\conda-demo\\Lib\\site-packages\\huggingface_hub\\file_download.py:1132: FutureWarning: `resume_download` is deprecated and will be removed in version 1.0.0. Downloads always resume when possible. If you want to force a new download, use `force_download=True`.\n",
      "  warnings.warn(\n",
      "c:\\Users\\Administrator\\anaconda3\\envs\\conda-demo\\Lib\\site-packages\\huggingface_hub\\file_download.py:1132: FutureWarning: `resume_download` is deprecated and will be removed in version 1.0.0. Downloads always resume when possible. If you want to force a new download, use `force_download=True`.\n",
      "  warnings.warn(\n"
     ]
    }
   ],
   "source": [
    "from sentence_transformers import SentenceTransformer\n",
    "embedding_model = SentenceTransformer(model_name)"
   ]
  },
  {
   "cell_type": "markdown",
   "metadata": {},
   "source": [
    "Create the embedding for this user question:"
   ]
  },
  {
   "cell_type": "code",
   "execution_count": 3,
   "metadata": {},
   "outputs": [],
   "source": [
    "user_question = \"I just discovered the course. Can I still join it?\""
   ]
  },
  {
   "cell_type": "markdown",
   "metadata": {},
   "source": [
    "What's the first value of the resulting vector?\n",
    "\n",
    "* -0.24\n",
    "* -0.04\n",
    "* 0.07\n",
    "* 0.27\n",
    "\n",
    "### Notes:\n",
    "\n",
    ":white_check_mark: 0.07"
   ]
  },
  {
   "cell_type": "code",
   "execution_count": 4,
   "metadata": {},
   "outputs": [
    {
     "name": "stdout",
     "output_type": "stream",
     "text": [
      "Q1 Answer: The first value of the resulting vector is 0.0782\n"
     ]
    }
   ],
   "source": [
    "from typing import TYPE_CHECKING, TypeAlias\n",
    "\n",
    "if TYPE_CHECKING:\n",
    "    from numpy import ndarray\n",
    "    from torch import Tensor\n",
    "\n",
    "\n",
    "Embedding: TypeAlias = \"list[Tensor] | ndarray | Tensor\"\n",
    "v: Embedding = embedding_model.encode(user_question)\n",
    "print(\"Q1 Answer: The first value of the resulting vector is {:.4f}\".format(v[0]))"
   ]
  },
  {
   "cell_type": "markdown",
   "metadata": {},
   "source": [
    "## Prepare the documents\n",
    "\n",
    "Now we will create the embeddings for the documents.\n",
    "\n",
    "Load the documents with ids that we prepared in the module:"
   ]
  },
  {
   "cell_type": "code",
   "execution_count": 5,
   "metadata": {},
   "outputs": [],
   "source": [
    "import requests\n",
    "\n",
    "base_url = \"https://github.com/DataTalksClub/llm-zoomcamp/blob/main\"\n",
    "relative_url = \"03-vector-search/eval/documents-with-ids.json\"\n",
    "docs_url = f\"{base_url}/{relative_url}?raw=1\"\n",
    "docs_response = requests.get(docs_url)\n",
    "documents = docs_response.json()"
   ]
  },
  {
   "cell_type": "markdown",
   "metadata": {},
   "source": [
    "We will use only a subset of the questions - the questions\n",
    "for `\"machine-learning-zoomcamp\"`. After filtering, you should\n",
    "have only 375 documents"
   ]
  },
  {
   "cell_type": "code",
   "execution_count": 6,
   "metadata": {},
   "outputs": [],
   "source": [
    "# Added code block to filter documents\n",
    "documents = [doc for doc in documents if doc[\"course\"] == \"machine-learning-zoomcamp\"]"
   ]
  },
  {
   "cell_type": "markdown",
   "metadata": {},
   "source": [
    "## Q2. Creating the embeddings\n",
    "\n",
    "Now for each document, we will create an embedding for both question and answer fields.\n",
    "\n",
    "We want to put all of them into a single matrix `X`:\n",
    "\n",
    "- Create a list `embeddings` \n",
    "- Iterate over each document \n",
    "- `qa_text = f'{question} {text}'`\n",
    "- compute the embedding for `qa_text`, append to `embeddings`\n",
    "- At the end, let `X = np.array(embeddings)` (`import numpy as np`) \n",
    "\n",
    "What's the shape of X? (`X.shape`). Include the parantheses."
   ]
  },
  {
   "cell_type": "code",
   "execution_count": 7,
   "metadata": {},
   "outputs": [
    {
     "data": {
      "application/vnd.jupyter.widget-view+json": {
       "model_id": "44bf0eaa1a9b42de854e632e78b3e002",
       "version_major": 2,
       "version_minor": 0
      },
      "text/plain": [
       "  0%|          | 0/375 [00:00<?, ?it/s]"
      ]
     },
     "metadata": {},
     "output_type": "display_data"
    },
    {
     "name": "stdout",
     "output_type": "stream",
     "text": [
      "Q2 Answer: The shape of X is (375, 768)\n"
     ]
    }
   ],
   "source": [
    "import numpy as np\n",
    "\n",
    "from tqdm.auto import tqdm\n",
    "\n",
    "\n",
    "embeddings: list[\"Embedding\"] = []\n",
    "for document in tqdm(documents):\n",
    "    qa_text: str = f\"{document['question']} {document['text']}\"\n",
    "    embedding: \"Embedding\" = embedding_model.encode(qa_text)\n",
    "    embeddings.append(embedding)\n",
    "\n",
    "X: \"ndarray\" = np.array(embeddings)\n",
    "print(\"Q2 Answer: The shape of X is {}\".format(X.shape))"
   ]
  },
  {
   "cell_type": "markdown",
   "metadata": {},
   "source": [
    "## Q3. Search\n",
    "\n",
    "We have the embeddings and the query vector. Now let's compute the \n",
    "cosine similarity between the vector from Q1 (let's call it `v`) and the matrix from Q2. \n",
    "\n",
    "The vectors returned from the embedding model are already\n",
    "normalized (you can check it by computing a dot product of a vector\n",
    "with itself - it should return 1.0). This means that in order\n",
    "to compute the coside similarity, it's sufficient to \n",
    "multiply the matrix `X` by the vector `v`:"
   ]
  },
  {
   "cell_type": "code",
   "execution_count": 8,
   "metadata": {},
   "outputs": [],
   "source": [
    "scores = X.dot(v)"
   ]
  },
  {
   "cell_type": "markdown",
   "metadata": {},
   "source": [
    "What's the highest score in the results?\n",
    "\n",
    "- 65.0 \n",
    "- 6.5\n",
    "- 0.65\n",
    "- 0.065\n",
    "\n",
    "### Notes:\n",
    "\n",
    ":white_check_mark: 0.65"
   ]
  },
  {
   "cell_type": "code",
   "execution_count": 9,
   "metadata": {},
   "outputs": [
    {
     "name": "stdout",
     "output_type": "stream",
     "text": [
      "Q3 Answer: The highest score in the results is 0.65\n"
     ]
    }
   ],
   "source": [
    "print(\"Q3 Answer: The highest score in the results is {:.2f}\".format(scores.max()))"
   ]
  },
  {
   "cell_type": "markdown",
   "metadata": {},
   "source": [
    "## Vector search\n",
    "\n",
    "We can now compute the similarity between a query vector and all the embeddings.\n",
    "\n",
    "Let's use this to implement our own vector search"
   ]
  },
  {
   "cell_type": "code",
   "execution_count": 10,
   "metadata": {},
   "outputs": [
    {
     "data": {
      "text/plain": [
       "[{'text': 'Yes, you can. You won’t be able to submit some of the homeworks, but you can still take part in the course.\\nIn order to get a certificate, you need to submit 2 out of 3 course projects and review 3 peers’ Projects by the deadline. It means that if you join the course at the end of November and manage to work on two projects, you will still be eligible for a certificate.',\n",
       "  'section': 'General course-related questions',\n",
       "  'question': 'The course has already started. Can I still join it?',\n",
       "  'course': 'machine-learning-zoomcamp',\n",
       "  'id': 'ee58a693'},\n",
       " {'text': 'Welcome to the course! Go to the course page (http://mlzoomcamp.com/), scroll down and start going through the course materials. Then read everything in the cohort folder for your cohort’s year.\\nClick on the links and start watching the videos. Also watch office hours from previous cohorts. Go to DTC youtube channel and click on Playlists and search for {course yyyy}. ML Zoomcamp was first launched in 2021.\\nOr you can just use this link: http://mlzoomcamp.com/#syllabus',\n",
       "  'section': 'General course-related questions',\n",
       "  'question': 'I just joined. What should I do next? How can I access course materials?',\n",
       "  'course': 'machine-learning-zoomcamp',\n",
       "  'id': '0a278fb2'},\n",
       " {'text': \"The process is automated now, so you should receive the email eventually. If you haven’t, check your promotions tab in Gmail as well as spam.\\nIf you unsubscribed from our newsletter, you won't get course related updates too.\\nBut don't worry, it’s not a problem. To make sure you don’t miss anything, join the #course-ml-zoomcamp channel in Slack and our telegram channel with announcements. This is enough to follow the course.\",\n",
       "  'section': 'General course-related questions',\n",
       "  'question': \"I filled the form, but haven't received a confirmation email. Is it normal?\",\n",
       "  'course': 'machine-learning-zoomcamp',\n",
       "  'id': '6ba259b1'},\n",
       " {'text': 'Technically, yes. Advisable? Not really. Reasons:\\nSome homework(s) asks for specific python library versions.\\nAnswers may not match in MCQ options if using different languages other than Python 3.10 (the recommended version for 2023 cohort)\\nAnd as for midterms/capstones, your peer-reviewers may not know these other languages. Do you want to be penalized for others not knowing these other languages?\\nYou can create a separate repo using course’s lessons but written in other languages for your own learnings, but not advisable for submissions.\\ntx[source]',\n",
       "  'section': 'Miscellaneous',\n",
       "  'question': 'Can I do the course in other languages, like R or Scala?',\n",
       "  'course': 'machine-learning-zoomcamp',\n",
       "  'id': '9f261648'},\n",
       " {'text': 'We won’t re-record the course videos. The focus of the course and the skills we want to teach remained the same, and the videos are still up-to-date.\\nIf you haven’t taken part in the previous iteration, you can start watching the videos. It’ll be useful for you and you will learn new things. However, we recommend using Python 3.10 now instead of Python 3.8.',\n",
       "  'section': 'General course-related questions',\n",
       "  'question': 'The course videos are from the previous iteration. Will you release new ones or we’ll use the videos from 2021?',\n",
       "  'course': 'machine-learning-zoomcamp',\n",
       "  'id': 'e7ba6b8a'}]"
      ]
     },
     "execution_count": 10,
     "metadata": {},
     "output_type": "execute_result"
    }
   ],
   "source": [
    "class VectorSearchEngine:\n",
    "    def __init__(self, documents, embeddings):\n",
    "        self.documents = documents\n",
    "        self.embeddings = embeddings\n",
    "\n",
    "    def search(self, v_query, num_results=10):\n",
    "        scores = self.embeddings.dot(v_query)\n",
    "        idx = np.argsort(-scores)[:num_results]\n",
    "        return [self.documents[i] for i in idx]\n",
    "\n",
    "\n",
    "search_engine = VectorSearchEngine(documents=documents, embeddings=X)\n",
    "search_engine.search(v, num_results=5)"
   ]
  },
  {
   "cell_type": "markdown",
   "metadata": {},
   "source": [
    "If you don't understand how the `search` function work:\n",
    "\n",
    "* Ask ChatGTP or any other LLM of your choice to explain the code\n",
    "* Check our pre-course workshop about implementing a search engine [here](https://github.com/alexeygrigorev/build-your-own-search-engine)\n",
    "\n",
    "(Note: you can replace `argsort` with `argpartition` to make it a lot faster)"
   ]
  },
  {
   "cell_type": "markdown",
   "metadata": {},
   "source": [
    "## Q4. Hit-rate for our search engine\n",
    "\n",
    "Let's evaluate the performance of our own search engine. We will\n",
    "use the hitrate metric for evaluation.\n",
    "\n",
    "First, load the ground truth dataset:"
   ]
  },
  {
   "cell_type": "code",
   "execution_count": 11,
   "metadata": {},
   "outputs": [],
   "source": [
    "import pandas as pd\n",
    "\n",
    "base_url = \"https://github.com/DataTalksClub/llm-zoomcamp/blob/main\"\n",
    "relative_url = \"03-vector-search/eval/ground-truth-data.csv\"\n",
    "ground_truth_url = f\"{base_url}/{relative_url}?raw=1\"\n",
    "\n",
    "df_ground_truth = pd.read_csv(ground_truth_url)\n",
    "df_ground_truth = df_ground_truth[df_ground_truth.course == \"machine-learning-zoomcamp\"]\n",
    "ground_truth = df_ground_truth.to_dict(orient=\"records\")"
   ]
  },
  {
   "cell_type": "markdown",
   "metadata": {},
   "source": [
    "Now use the code from the module to calculate the hitrate of\n",
    "`VectorSearchEngine` with `num_results=5`.\n",
    "\n",
    "What did you get?\n",
    "\n",
    "* 0.93\n",
    "* 0.73\n",
    "* 0.53\n",
    "* 0.33\n",
    "\n",
    "### Notes:\n",
    "\n",
    ":white_check_mark: 0.93"
   ]
  },
  {
   "cell_type": "code",
   "execution_count": 12,
   "metadata": {},
   "outputs": [],
   "source": [
    "from typing import Callable, TypedDict\n",
    "\n",
    "from tqdm.auto import tqdm\n",
    "\n",
    "\n",
    "class Document(TypedDict):\n",
    "    text: str\n",
    "    section: str\n",
    "    question: str\n",
    "    course: str\n",
    "    id: str\n",
    "\n",
    "\n",
    "class GroundTruth(TypedDict):\n",
    "    question: str\n",
    "    course: str\n",
    "    document: str\n",
    "\n",
    "\n",
    "def relevance_total(\n",
    "    *,\n",
    "    ground_truth: list[GroundTruth],\n",
    "    encode: Callable[[str], \"Embedding\"],\n",
    "    search_function: Callable[[\"Embedding\"], list[Document]],\n",
    ") -> list[list[bool]]:\n",
    "    relevance_total: list[list[bool]] = []\n",
    "\n",
    "    for question in tqdm(ground_truth):\n",
    "        doc_id: str = question[\"document\"]\n",
    "\n",
    "        question_text: str = question[\"question\"]\n",
    "        vector: \"Embedding\" = encode(question_text)\n",
    "        results: list[Document] = search_function(vector)\n",
    "\n",
    "        relevance_row: list[bool] = [result[\"id\"] == doc_id for result in results]\n",
    "        relevance_total.append(relevance_row)\n",
    "\n",
    "    return relevance_total"
   ]
  },
  {
   "cell_type": "code",
   "execution_count": 13,
   "metadata": {},
   "outputs": [
    {
     "data": {
      "application/vnd.jupyter.widget-view+json": {
       "model_id": "46b49898163e4918ab5d17ff9d6d3b51",
       "version_major": 2,
       "version_minor": 0
      },
      "text/plain": [
       "  0%|          | 0/1830 [00:00<?, ?it/s]"
      ]
     },
     "metadata": {},
     "output_type": "display_data"
    },
    {
     "name": "stdout",
     "output_type": "stream",
     "text": [
      "Q4 Answer: The hit rate of `VectorSearchEngine` with `num_results=5` is 0.9399\n"
     ]
    }
   ],
   "source": [
    "from functools import partial\n",
    "\n",
    "\n",
    "search_function = partial(search_engine.search, num_results=5)\n",
    "\n",
    "q4_relevance_total: list[list[bool]] = relevance_total(\n",
    "    ground_truth=ground_truth,\n",
    "    encode=embedding_model.encode,\n",
    "    search_function=search_function,\n",
    "    )\n",
    "\n",
    "q4_hit_rate: float = sum(any(relevance_row) for relevance_row in q4_relevance_total) / len(q4_relevance_total)\n",
    "print(\"Q4 Answer: The hit rate of `VectorSearchEngine` with `num_results=5` is {:.4f}\".format(q4_hit_rate))"
   ]
  },
  {
   "cell_type": "markdown",
   "metadata": {},
   "source": [
    "## Q5. Indexing with Elasticsearch\n",
    "\n",
    "Now let's index these documents with elasticsearch\n",
    "\n",
    "* Create the index with the same settings as in the module (but change the dimensions)\n",
    "* Index the embeddings (note: you've already computed them)\n",
    "\n",
    "After indexing, let's perform the search of the same query from Q1.\n",
    "\n",
    "What's the ID of the document with the highest score?"
   ]
  },
  {
   "cell_type": "code",
   "execution_count": 14,
   "metadata": {},
   "outputs": [],
   "source": [
    "from typing import TypedDict\n",
    "\n",
    "\n",
    "class Mapping(TypedDict):\n",
    "    text: str\n",
    "    section: str\n",
    "    question: str\n",
    "    course: str\n",
    "    id: str\n",
    "    qa_text_vector: \"Embedding\"\n",
    "\n",
    "\n",
    "mappings: list[Mapping] = []\n",
    "for document, embedding in zip(documents, embeddings):\n",
    "    mapping = document.copy()\n",
    "\n",
    "    mapping[\"qa_text_vector\"] = embedding\n",
    "    mappings.append(mapping)"
   ]
  },
  {
   "cell_type": "code",
   "execution_count": 15,
   "metadata": {},
   "outputs": [
    {
     "name": "stdout",
     "output_type": "stream",
     "text": [
      "{'name': '70e192dd1c8c', 'cluster_name': 'docker-cluster', 'cluster_uuid': '4u0tuqftRiWledlCvOGyVA', 'version': {'number': '8.4.3', 'build_flavor': 'default', 'build_type': 'docker', 'build_hash': '42f05b9372a9a4a470db3b52817899b99a76ee73', 'build_date': '2022-10-04T07:17:24.662462378Z', 'build_snapshot': False, 'lucene_version': '9.3.0', 'minimum_wire_compatibility_version': '7.17.0', 'minimum_index_compatibility_version': '7.0.0'}, 'tagline': 'You Know, for Search'}\n"
     ]
    },
    {
     "data": {
      "text/plain": [
       "ObjectApiResponse({'acknowledged': True, 'shards_acknowledged': True, 'index': 'course-questions'})"
      ]
     },
     "execution_count": 15,
     "metadata": {},
     "output_type": "execute_result"
    }
   ],
   "source": [
    "from elasticsearch import Elasticsearch\n",
    "\n",
    "\n",
    "es_client = Elasticsearch('http://localhost:9200') \n",
    "\n",
    "print(es_client.info())\n",
    "\n",
    "index_settings = {\n",
    "    \"settings\": {\n",
    "        \"number_of_shards\": 1,\n",
    "        \"number_of_replicas\": 0,\n",
    "    },\n",
    "    \"mappings\": {\n",
    "        \"properties\": {\n",
    "            \"text\": {\"type\": \"text\"},\n",
    "            \"section\": {\"type\": \"text\"},\n",
    "            \"question\": {\"type\": \"text\"},\n",
    "            \"course\": {\"type\": \"keyword\"},\n",
    "            \"id\": {\"type\": \"keyword\"},\n",
    "            \"qa_text_vector\": {\n",
    "                \"type\": \"dense_vector\",\n",
    "                \"dims\": 768,\n",
    "                \"index\": True,\n",
    "                \"similarity\": \"cosine\",\n",
    "            },\n",
    "        }\n",
    "    }\n",
    "}\n",
    "\n",
    "index_name = \"course-questions\"\n",
    "\n",
    "es_client.indices.delete(index=index_name, ignore_unavailable=True)\n",
    "es_client.indices.create(index=index_name, body=index_settings)"
   ]
  },
  {
   "cell_type": "code",
   "execution_count": 16,
   "metadata": {},
   "outputs": [
    {
     "data": {
      "application/vnd.jupyter.widget-view+json": {
       "model_id": "4221719fbece47e49e48287e4eb5c907",
       "version_major": 2,
       "version_minor": 0
      },
      "text/plain": [
       "  0%|          | 0/375 [00:00<?, ?it/s]"
      ]
     },
     "metadata": {},
     "output_type": "display_data"
    }
   ],
   "source": [
    "from tqdm.auto import tqdm\n",
    "\n",
    "\n",
    "for document in tqdm(mappings):\n",
    "    try:\n",
    "        es_client.index(index=index_name, document=document)\n",
    "    except Exception as e:\n",
    "        print(e)"
   ]
  },
  {
   "cell_type": "code",
   "execution_count": 17,
   "metadata": {},
   "outputs": [],
   "source": [
    "from typing import Sequence\n",
    "\n",
    "from elasticsearch import Elasticsearch\n",
    "\n",
    "\n",
    "def elastic_search_knn(\n",
    "    *,\n",
    "    field: str,\n",
    "    query_vector: \"Embedding\",\n",
    "    course: str,\n",
    "    es_client: Elasticsearch,\n",
    "    index: str | Sequence[str] | None,\n",
    ") -> list[\"Document\"]:\n",
    "    knn = {\n",
    "        \"field\": field,\n",
    "        \"query_vector\": query_vector,\n",
    "        \"k\": 5,\n",
    "        \"num_candidates\": 10000,\n",
    "    }\n",
    "    if course:\n",
    "        knn[\"filter\"] = {\n",
    "            \"term\": {\n",
    "                \"course\": course\n",
    "            }\n",
    "        }\n",
    "\n",
    "    search_query = {\n",
    "        \"knn\": knn,\n",
    "        \"_source\": [\"text\", \"section\", \"question\", \"course\", \"id\"],\n",
    "    }\n",
    "\n",
    "    es_results = es_client.search(index=index, body=search_query)\n",
    "\n",
    "    result_docs = []\n",
    "\n",
    "    for hit in es_results[\"hits\"][\"hits\"]:\n",
    "        result_docs.append(hit[\"_source\"])\n",
    "\n",
    "    return result_docs"
   ]
  },
  {
   "cell_type": "code",
   "execution_count": 18,
   "metadata": {},
   "outputs": [
    {
     "name": "stdout",
     "output_type": "stream",
     "text": [
      "Result document 1\n",
      "question: The course has already started. Can I still join it?\n",
      "course: machine-learning-zoomcamp\n",
      "section: General course-related questions\n",
      "text: Yes, you can. You won’t be able to submit some of the homeworks, but you can still take part in the course.\n",
      "In order to get a certificate, you need to submit 2 out of 3 course projects and review 3 peers’ Projects by the deadline. It means that if you join the course at the end of November and manage to work on two projects, you will still be eligible for a certificate.\n",
      "id: ee58a693\n",
      "\n",
      "Result document 2\n",
      "question: I just joined. What should I do next? How can I access course materials?\n",
      "course: machine-learning-zoomcamp\n",
      "section: General course-related questions\n",
      "text: Welcome to the course! Go to the course page (http://mlzoomcamp.com/), scroll down and start going through the course materials. Then read everything in the cohort folder for your cohort’s year.\n",
      "Click on the links and start watching the videos. Also watch office hours from previous cohorts. Go to DTC youtube channel and click on Playlists and search for {course yyyy}. ML Zoomcamp was first launched in 2021.\n",
      "Or you can just use this link: http://mlzoomcamp.com/#syllabus\n",
      "id: 0a278fb2\n",
      "\n",
      "Result document 3\n",
      "question: I filled the form, but haven't received a confirmation email. Is it normal?\n",
      "course: machine-learning-zoomcamp\n",
      "section: General course-related questions\n",
      "text: The process is automated now, so you should receive the email eventually. If you haven’t, check your promotions tab in Gmail as well as spam.\n",
      "If you unsubscribed from our newsletter, you won't get course related updates too.\n",
      "But don't worry, it’s not a problem. To make sure you don’t miss anything, join the #course-ml-zoomcamp channel in Slack and our telegram channel with announcements. This is enough to follow the course.\n",
      "id: 6ba259b1\n",
      "\n",
      "Result document 4\n",
      "question: Can I do the course in other languages, like R or Scala?\n",
      "course: machine-learning-zoomcamp\n",
      "section: Miscellaneous\n",
      "text: Technically, yes. Advisable? Not really. Reasons:\n",
      "Some homework(s) asks for specific python library versions.\n",
      "Answers may not match in MCQ options if using different languages other than Python 3.10 (the recommended version for 2023 cohort)\n",
      "And as for midterms/capstones, your peer-reviewers may not know these other languages. Do you want to be penalized for others not knowing these other languages?\n",
      "You can create a separate repo using course’s lessons but written in other languages for your own learnings, but not advisable for submissions.\n",
      "tx[source]\n",
      "id: 9f261648\n",
      "\n",
      "Result document 5\n",
      "question: The course videos are from the previous iteration. Will you release new ones or we’ll use the videos from 2021?\n",
      "course: machine-learning-zoomcamp\n",
      "section: General course-related questions\n",
      "text: We won’t re-record the course videos. The focus of the course and the skills we want to teach remained the same, and the videos are still up-to-date.\n",
      "If you haven’t taken part in the previous iteration, you can start watching the videos. It’ll be useful for you and you will learn new things. However, we recommend using Python 3.10 now instead of Python 3.8.\n",
      "id: e7ba6b8a\n",
      "\n"
     ]
    }
   ],
   "source": [
    "vector_search_term: \"Embedding\" = embedding_model.encode(user_question)\n",
    "\n",
    "result_docs: list[\"Document\"] = elastic_search_knn(\n",
    "    field=\"qa_text_vector\",\n",
    "    query_vector=vector_search_term,\n",
    "    course=\"machine-learning-zoomcamp\",\n",
    "    es_client=es_client,\n",
    "    index=index_name,\n",
    ")\n",
    "\n",
    "for i, doc in enumerate(result_docs):\n",
    "    print(f\"Result document {i + 1}\")\n",
    "    for k, v in doc.items():\n",
    "        print(f\"{k}: {v}\")\n",
    "    print()"
   ]
  },
  {
   "cell_type": "code",
   "execution_count": 19,
   "metadata": {},
   "outputs": [
    {
     "name": "stdout",
     "output_type": "stream",
     "text": [
      "Q5 Answer: The ID of the document with the highest score is ee58a693\n"
     ]
    }
   ],
   "source": [
    "print(\"Q5 Answer: The ID of the document with the highest score is {}\".format(result_docs[0][\"id\"]))"
   ]
  },
  {
   "cell_type": "markdown",
   "metadata": {},
   "source": [
    "## Q6. Hit-rate for Elasticsearch\n",
    "\n",
    "The search engine we used in Q4 computed the similarity between\n",
    "the query and ALL the vectors in our database. Usually this is \n",
    "not practical, as we may have a lot of data.\n",
    "\n",
    "Elasticsearch uses approximate techniques to make it faster. \n",
    "\n",
    "Let's evaluate how worse the results are when we switch from\n",
    "exact search (as in Q4) to approximate search with Elastic.\n",
    "\n",
    "What's hitrate for our dataset for Elastic?\n",
    "\n",
    "* 0.93\n",
    "* 0.73\n",
    "* 0.53\n",
    "* 0.33\n",
    "\n",
    "### Notes:\n",
    "\n",
    ":white_check_mark: 0.93"
   ]
  },
  {
   "cell_type": "code",
   "execution_count": 20,
   "metadata": {},
   "outputs": [],
   "source": [
    "from typing import Sequence\n",
    "\n",
    "from elasticsearch import Elasticsearch\n",
    "from sentence_transformers import SentenceTransformer\n",
    "from tqdm.auto import tqdm\n",
    "\n",
    "\n",
    "def relevance_total_es(\n",
    "    *,\n",
    "    ground_truth: list[\"GroundTruth\"],\n",
    "    model: SentenceTransformer,\n",
    "    field: str,\n",
    "    course: str,\n",
    "    es_client: Elasticsearch,\n",
    "    index: str | Sequence[str] | None,\n",
    ") -> list[list[bool]]:\n",
    "    relevance_total: list[list[bool]] = []\n",
    "\n",
    "    for question in tqdm(ground_truth):\n",
    "        doc_id: str = question[\"document\"]\n",
    "\n",
    "        question_text: str = question[\"question\"]\n",
    "        vector_search_term: \"Embedding\" = model.encode(question_text)\n",
    "\n",
    "        result_docs: list[Document] = elastic_search_knn(\n",
    "            field=field,\n",
    "            query_vector=vector_search_term,\n",
    "            course=course,\n",
    "            es_client=es_client,\n",
    "            index=index,\n",
    "        )\n",
    "\n",
    "        relevance_row: list[bool] = [result[\"id\"] == doc_id for result in result_docs]\n",
    "        relevance_total.append(relevance_row)\n",
    "\n",
    "    return relevance_total"
   ]
  },
  {
   "cell_type": "code",
   "execution_count": 21,
   "metadata": {},
   "outputs": [
    {
     "data": {
      "application/vnd.jupyter.widget-view+json": {
       "model_id": "a5971b4991fd4a8aa477d19aae865f2f",
       "version_major": 2,
       "version_minor": 0
      },
      "text/plain": [
       "  0%|          | 0/1830 [00:00<?, ?it/s]"
      ]
     },
     "metadata": {},
     "output_type": "display_data"
    },
    {
     "name": "stdout",
     "output_type": "stream",
     "text": [
      "Q6 Answer: The hitrate for our dataset for Elastic is 0.9399\n"
     ]
    }
   ],
   "source": [
    "q6_relevance_total: list[list[bool]] = relevance_total_es(\n",
    "    ground_truth=ground_truth,\n",
    "    model=embedding_model,\n",
    "    field=\"qa_text_vector\",\n",
    "    course=\"machine-learning-zoomcamp\",\n",
    "    es_client=es_client,\n",
    "    index=index_name,\n",
    "    )\n",
    "\n",
    "q6_hit_rate: float = sum(any(relevance_row) for relevance_row in q6_relevance_total) / len(q6_relevance_total)\n",
    "print(\"Q6 Answer: The hitrate for our dataset for Elastic is {:.4f}\".format(q6_hit_rate))"
   ]
  }
 ],
 "metadata": {
  "kernelspec": {
   "display_name": "conda-demo",
   "language": "python",
   "name": "python3"
  },
  "language_info": {
   "codemirror_mode": {
    "name": "ipython",
    "version": 3
   },
   "file_extension": ".py",
   "mimetype": "text/x-python",
   "name": "python",
   "nbconvert_exporter": "python",
   "pygments_lexer": "ipython3",
   "version": "3.11.9"
  }
 },
 "nbformat": 4,
 "nbformat_minor": 2
}
