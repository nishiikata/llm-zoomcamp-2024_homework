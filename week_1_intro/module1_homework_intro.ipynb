{
 "cells": [
  {
   "cell_type": "markdown",
   "metadata": {},
   "source": [
    "# Week 1 Homework\n",
    "\n",
    "## Homework: Introduction\n",
    "\n",
    "In this homework, we'll learn more about search and use Elastic Search for practice. "
   ]
  },
  {
   "cell_type": "markdown",
   "metadata": {},
   "source": [
    "## Q1. Running Elastic \n",
    "\n",
    "Run Elastic Search 8.4.3, and get the cluster information. If you run it on localhost, this is how you do it:\n",
    "\n",
    "```bash\n",
    "curl localhost:9200\n",
    "```\n",
    "\n",
    "What's the `version.build_hash` value?\n",
    "\n",
    "> [!NOTE]\n",
    "> You can run Elastic Search 8.4.3 using the docker command [here](https://github.com/DataTalksClub/llm-zoomcamp/blob/main/01-intro/README.md#16-searching-with-elasticsearch)\n",
    ">\n",
    "> Or via [docker compose](https://docs.docker.com/compose/gettingstarted) by downloading the following [compose](./docker-compose.yml) file I have provided and running `docker compose up` in the same directory as the YAML file\n",
    "\n",
    "### Notes:\n",
    "\n",
    ":white_check_mark: '42f05b9372a9a4a470db3b52817899b99a76ee73'"
   ]
  },
  {
   "cell_type": "code",
   "execution_count": 1,
   "metadata": {},
   "outputs": [
    {
     "data": {
      "text/plain": [
       "'42f05b9372a9a4a470db3b52817899b99a76ee73'"
      ]
     },
     "execution_count": 1,
     "metadata": {},
     "output_type": "execute_result"
    }
   ],
   "source": [
    "import requests\n",
    "\n",
    "response = requests.get(\"http://localhost:9200\")\n",
    "data = response.json()\n",
    "\n",
    "data[\"version\"][\"build_hash\"]"
   ]
  },
  {
   "cell_type": "markdown",
   "metadata": {},
   "source": [
    "## Getting the data\n",
    "\n",
    "Now let's get the FAQ data. You can run this snippet:"
   ]
  },
  {
   "cell_type": "code",
   "execution_count": 2,
   "metadata": {},
   "outputs": [],
   "source": [
    "import requests\n",
    "\n",
    "docs_url = \"https://github.com/DataTalksClub/llm-zoomcamp/blob/main/01-intro/documents.json?raw=1\"\n",
    "docs_response = requests.get(docs_url)\n",
    "documents_raw = docs_response.json()\n",
    "\n",
    "documents = []\n",
    "\n",
    "for course in documents_raw:\n",
    "    course_name = course[\"course\"]\n",
    "\n",
    "    for doc in course[\"documents\"]:\n",
    "        doc[\"course\"] = course_name\n",
    "        documents.append(doc)"
   ]
  },
  {
   "cell_type": "markdown",
   "metadata": {},
   "source": [
    "Note that you need to have the `requests` library:\n",
    "\n",
    "```bash\n",
    "pip install requests\n",
    "```"
   ]
  },
  {
   "cell_type": "markdown",
   "metadata": {},
   "source": [
    "## Q2. Indexing the data\n",
    "\n",
    "Index the data in the same way as was shown in the course videos. Make the `course` field a keyword and the rest should be text. \n",
    "\n",
    "Don't forget to install the ElasticSearch client for Python:\n",
    "\n",
    "```bash\n",
    "pip install elasticsearch\n",
    "```\n",
    "\n",
    "Which function do you use for adding your data to elastic?\n",
    "\n",
    "* `insert`\n",
    "* `index`\n",
    "* `put`\n",
    "* `add`\n",
    "\n",
    "### Notes:\n",
    "\n",
    ":white_check_mark: `index`"
   ]
  },
  {
   "cell_type": "code",
   "execution_count": 3,
   "metadata": {},
   "outputs": [
    {
     "name": "stdout",
     "output_type": "stream",
     "text": [
      "{'acknowledged': True, 'shards_acknowledged': True, 'index': 'course-questions'}\n"
     ]
    },
    {
     "data": {
      "application/vnd.jupyter.widget-view+json": {
       "model_id": "b19b891252d542d797ddda0d0c957dc9",
       "version_major": 2,
       "version_minor": 0
      },
      "text/plain": [
       "  0%|          | 0/948 [00:00<?, ?it/s]"
      ]
     },
     "metadata": {},
     "output_type": "display_data"
    }
   ],
   "source": [
    "from elasticsearch import Elasticsearch\n",
    "from tqdm.auto import tqdm\n",
    "\n",
    "es_client = Elasticsearch(\"http://localhost:9200\")\n",
    "\n",
    "index_settings = {\n",
    "    \"settings\": {\"number_of_shards\": 1, \"number_of_replicas\": 0},\n",
    "    \"mappings\": {\n",
    "        \"properties\": {\n",
    "            \"text\": {\"type\": \"text\"},\n",
    "            \"section\": {\"type\": \"text\"},\n",
    "            \"question\": {\"type\": \"text\"},\n",
    "            \"course\": {\"type\": \"keyword\"},\n",
    "        }\n",
    "    },\n",
    "}\n",
    "\n",
    "index_name = \"course-questions\"\n",
    "\n",
    "response_create = es_client.indices.create(index=index_name, body=index_settings)\n",
    "print(response_create)\n",
    "\n",
    "for doc in tqdm(documents):\n",
    "    es_client.index(index=index_name, body=doc)"
   ]
  },
  {
   "cell_type": "markdown",
   "metadata": {},
   "source": [
    "## Q3. Searching\n",
    "\n",
    "Now let's search in our index. \n",
    "\n",
    "For a query \"How do I execute a command in a running docker container?\", what's the score for the top ranking result? \n",
    "\n",
    "Use only `question` and `text` fields and give `question` a boost of 4\n",
    "\n",
    "* 94.05\n",
    "* 84.05\n",
    "* 74.05\n",
    "* 64.05\n",
    "\n",
    "Look at the `_score` field.\n",
    "\n",
    "### Notes:\n",
    "\n",
    ":white_check_mark: 84.05"
   ]
  },
  {
   "cell_type": "code",
   "execution_count": 4,
   "metadata": {},
   "outputs": [
    {
     "name": "stdout",
     "output_type": "stream",
     "text": [
      "Q3 Answer: The `_score` field value is 84.050095\n"
     ]
    }
   ],
   "source": [
    "query = \"How do I execute a command in a running docker container?\"\n",
    "\n",
    "search_query_q3 = {\n",
    "    \"query\": {\n",
    "        \"bool\": {\n",
    "            \"must\": {\n",
    "                \"multi_match\": {\n",
    "                    \"query\": query,\n",
    "                    \"fields\": [\"question^4\", \"text\"],\n",
    "                    \"type\": \"best_fields\",\n",
    "                }\n",
    "            },\n",
    "        }\n",
    "    }\n",
    "}\n",
    "\n",
    "response_q3 = es_client.search(index=index_name, body=search_query_q3)\n",
    "\n",
    "top_score = response_q3[\"hits\"][\"hits\"][0][\"_score\"]\n",
    "print(f\"Q3 Answer: The `_score` field value is {top_score}\")"
   ]
  },
  {
   "cell_type": "markdown",
   "metadata": {},
   "source": [
    "## Q4. Filtering\n",
    "\n",
    "Now let's only limit the questions to `machine-learning-zoomcamp`.\n",
    "\n",
    "Return 3 results. What's the 3rd question returned by the search engine?\n",
    "\n",
    "* How do I debug a docker container?\n",
    "* How do I copy files from a different folder into docker container’s working directory?\n",
    "* How do Lambda container images work?\n",
    "* How can I annotate a graph?\n",
    "\n",
    "### Notes:\n",
    "\n",
    ":white_check_mark: How do I copy files from a different folder into docker container’s working directory?"
   ]
  },
  {
   "cell_type": "code",
   "execution_count": 5,
   "metadata": {},
   "outputs": [
    {
     "name": "stdout",
     "output_type": "stream",
     "text": [
      "The 3 result questions:\n",
      "1. How do I debug a docker container?\n",
      "2. How do I copy files from my local machine to docker container?\n",
      "3. How do I copy files from a different folder into docker container’s working directory?\n",
      "\n",
      "Q4 Answer: The 3rd question returned by the search engine is\n",
      "'How do I copy files from a different folder into docker container’s working directory?'\n"
     ]
    }
   ],
   "source": [
    "search_query_q4 = search_query_q3.copy()\n",
    "search_query_q4[\"size\"] = 3\n",
    "search_query_q4[\"query\"][\"bool\"][\"filter\"] = {\n",
    "    \"term\": {\"course\": \"machine-learning-zoomcamp\"}\n",
    "}\n",
    "\n",
    "response_q4 = es_client.search(index=index_name, body=search_query_q4)\n",
    "\n",
    "result_docs = []\n",
    "\n",
    "for hit in response_q4[\"hits\"][\"hits\"]:\n",
    "    result_docs.append(hit[\"_source\"])\n",
    "\n",
    "print(\"The 3 result questions:\")\n",
    "for i, doc in enumerate(result_docs):\n",
    "    print(f\"{i + 1}. {doc['question']}\")\n",
    "print()\n",
    "\n",
    "third_question = result_docs[2][\"question\"]\n",
    "print(\n",
    "    f\"\"\"Q4 Answer: The 3rd question returned by the search engine is\n",
    "'{third_question}'\n",
    "\"\"\".strip()\n",
    ")"
   ]
  },
  {
   "cell_type": "markdown",
   "metadata": {},
   "source": [
    "## Q5. Building a prompt\n",
    "\n",
    "Now we're ready to build a prompt to send to an LLM. Let's use these templates:"
   ]
  },
  {
   "cell_type": "code",
   "execution_count": 6,
   "metadata": {},
   "outputs": [],
   "source": [
    "context_template = \"\"\"\n",
    "Q: {question}\n",
    "A: {text}\n",
    "\"\"\".strip()\n",
    "\n",
    "prompt_template = \"\"\"\n",
    "You're a course teaching assistant. Answer the QUESTION based on the CONTEXT from the FAQ database.\n",
    "Use only the facts from the CONTEXT when answering the QUESTION.\n",
    "\n",
    "QUESTION: {question}\n",
    "\n",
    "CONTEXT:\n",
    "{context}\n",
    "\"\"\".strip()"
   ]
  },
  {
   "cell_type": "markdown",
   "metadata": {},
   "source": [
    "Separate context entries by two linebreaks (`\\n\\n`)\n",
    "\n",
    "Put the data from Q4 there. \n",
    "\n",
    "What's the length of the result? (use the `len` function)\n",
    "\n",
    "* 962\n",
    "* 1462\n",
    "* 1962\n",
    "* 2462\n",
    "\n",
    "### Notes:\n",
    "\n",
    ":white_check_mark: 1462"
   ]
  },
  {
   "cell_type": "code",
   "execution_count": 7,
   "metadata": {},
   "outputs": [
    {
     "name": "stdout",
     "output_type": "stream",
     "text": [
      "Q5 Answer: The length of the result is 1462.\n"
     ]
    }
   ],
   "source": [
    "def build_prompt(query: str, search_results: list):\n",
    "    context = \"\"\n",
    "\n",
    "    for doc in search_results:\n",
    "        context = (\n",
    "            context\n",
    "            + context_template.format(question=doc[\"question\"], text=doc[\"text\"])\n",
    "            + \"\\n\\n\"\n",
    "        )\n",
    "\n",
    "    prompt = prompt_template.format(question=query, context=context).strip()\n",
    "    return prompt\n",
    "\n",
    "\n",
    "prompt = build_prompt(query, result_docs)\n",
    "print(f\"Q5 Answer: The length of the result is {len(prompt)}.\")"
   ]
  },
  {
   "cell_type": "markdown",
   "metadata": {},
   "source": [
    "## Q6. Tokens\n",
    "\n",
    "When we use the OpenAI Platform, we're charged by the number of \n",
    "tokens we send in our prompt and receive in the response.\n",
    "\n",
    "The OpenAI python package uses `tiktoken` for tokenization:\n",
    "\n",
    "```bash\n",
    "pip install tiktoken\n",
    "```\n",
    "\n",
    "Let's calculate the number of tokens in our query: \n",
    "\n",
    "```python\n",
    "encoding = tiktoken.encoding_for_model(\"gpt-4o\")\n",
    "```\n",
    "\n",
    "Use the `encode` function. How many tokens does our prompt have?\n",
    "\n",
    "* 122\n",
    "* 222\n",
    "* 322\n",
    "* 422\n",
    "\n",
    "Note: to decode back a token into a word, you can use the `decode_single_token_bytes` function:\n",
    "\n",
    "```python\n",
    "encoding.decode_single_token_bytes(63842)\n",
    "```\n",
    "\n",
    "### Notes:\n",
    "\n",
    ":white_check_mark: 322"
   ]
  },
  {
   "cell_type": "code",
   "execution_count": 8,
   "metadata": {},
   "outputs": [
    {
     "name": "stdout",
     "output_type": "stream",
     "text": [
      "Q6 Answer: Our prompt has 322 tokens.\n"
     ]
    }
   ],
   "source": [
    "import tiktoken\n",
    "\n",
    "encoding = tiktoken.encoding_for_model(\"gpt-4o\")\n",
    "\n",
    "num_tokens = len(encoding.encode(prompt))\n",
    "print(f\"Q6 Answer: Our prompt has {num_tokens} tokens.\")"
   ]
  },
  {
   "cell_type": "markdown",
   "metadata": {},
   "source": [
    "## Bonus: generating the answer (ungraded)\n",
    "\n",
    "Let's send the prompt to OpenAI. What's the response?  \n",
    "\n",
    "Note: you can replace OpenAI with Ollama. See module 2."
   ]
  },
  {
   "cell_type": "markdown",
   "metadata": {},
   "source": [
    "\n",
    "> [!NOTE]\n",
    "> Run the following commands in your terminal to pull the Ollama `Phi 3` model\n",
    "> ```bash\n",
    "> # Use this command if you prefer to run Ollama using a docker container\n",
    "> docker exec -it ollama bash\n",
    "> \n",
    "> # Pulls the Phi 3 Mini model\n",
    "> ollama pull phi3\n",
    "> ```"
   ]
  },
  {
   "cell_type": "code",
   "execution_count": 9,
   "metadata": {},
   "outputs": [
    {
     "name": "stdout",
     "output_type": "stream",
     "text": [
      "Query:\n",
      "How do I execute a command in a running docker container?\n",
      "\n",
      "Response:\n",
      " To execute a command in a running docker container, you can use the `docker exec` command followed by the specific container ID and your desired command. Here's how to do it:\n",
      "\n",
      "1. If the container is already running, execute a command in the specific container using the following format:\n",
      "   ```\n",
      "   docker exec -it <container-id> <command>\n",
      "   ```\n",
      "\n",
      "For example, if you want to run \"ls\" within a running container with ID `abc123`, you would use:\n",
      "   ```\n",
      "   docker exec -it abc123 ls\n",
      "   ```\n"
     ]
    }
   ],
   "source": [
    "from openai import OpenAI\n",
    "\n",
    "\n",
    "def llm(client: \"OpenAI\", prompt: str):\n",
    "    response = client.chat.completions.create(\n",
    "        model=\"phi3\",\n",
    "        messages=[\n",
    "            {\"role\": \"user\", \"content\": prompt},\n",
    "        ],\n",
    "    )\n",
    "\n",
    "    return response.choices[0].message.content\n",
    "\n",
    "\n",
    "client = OpenAI(\n",
    "    base_url=\"http://localhost:11434/v1/\",\n",
    "    api_key=\"ollama\",\n",
    ")\n",
    "\n",
    "answer = llm(client, prompt)\n",
    "\n",
    "print(\n",
    "    f\"\"\"Query:\n",
    "{query}\n",
    "\n",
    "Response:\n",
    "{answer}\n",
    "\"\"\".strip()\n",
    ")"
   ]
  },
  {
   "cell_type": "markdown",
   "metadata": {},
   "source": [
    "## Bonus: calculating the costs (ungraded)\n",
    "\n",
    "Suppose that on average per request we send 150 tokens and receive back 250 tokens.\n",
    "\n",
    "How much will it cost to run 1000 requests?\n",
    "\n",
    "You can see the prices [here](https://openai.com/api/pricing/)\n",
    "\n",
    "On June 17, the prices for gpt4o are:\n",
    "\n",
    "* Input: $0.005 / 1K tokens\n",
    "* Output: $0.015 / 1K tokens\n",
    "\n",
    "You can redo the calculations with the values you got in Q6 and Q7."
   ]
  },
  {
   "cell_type": "code",
   "execution_count": 10,
   "metadata": {},
   "outputs": [
    {
     "name": "stdout",
     "output_type": "stream",
     "text": [
      "It will cost $4.50 to run 1,000 requests.\n"
     ]
    }
   ],
   "source": [
    "input_token_cost = 0.005 / 1_000\n",
    "output_token_cost = 0.015 / 1_000\n",
    "\n",
    "request_count = 1_000\n",
    "request_cost = (150 * input_token_cost) + (250 * output_token_cost)\n",
    "total_cost = request_count * request_cost\n",
    "print(\"It will cost ${:.2f} to run {:,} requests.\".format(total_cost, request_count))"
   ]
  }
 ],
 "metadata": {
  "kernelspec": {
   "display_name": "conda-demo",
   "language": "python",
   "name": "python3"
  },
  "language_info": {
   "codemirror_mode": {
    "name": "ipython",
    "version": 3
   },
   "file_extension": ".py",
   "mimetype": "text/x-python",
   "name": "python",
   "nbconvert_exporter": "python",
   "pygments_lexer": "ipython3",
   "version": "3.11.9"
  }
 },
 "nbformat": 4,
 "nbformat_minor": 2
}
